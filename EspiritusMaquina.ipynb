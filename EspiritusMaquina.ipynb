{
 "cells": [
  {
   "cell_type": "markdown",
   "id": "f3087e52",
   "metadata": {},
   "source": [
    "## EspiritusMaquinas\n",
    "\n",
    "![:o](https://encrypted-tbn0.gstatic.com/images?q=tbn:ANd9GcTKqyWbTjGDl4toc-aKgAYbzkS9GQC4eoIPxFfVQ9azUshTOntx0j5d4utiBFTp6AwJJ88&usqp=CAU)\n"
   ]
  },
  {
   "cell_type": "markdown",
   "id": "ae03dfcb",
   "metadata": {},
   "source": [
    "##### 1.Recopilar un conjunto de datos: Necesitarás una colección de imágenes satelitales etiquetadas que contengan hidrocarburos y otras que no los contengan. Puedes buscar bases de datos públicas o recopilar imágenes etiquetadas manualmente. Cuantas más imágenes tengas, mejor será el rendimiento del modelo.\n",
    "\n",
    "nota: analizar las imagenes de plataformas libres como las de dentinel 2 AB, que tienen una resolución de 10m y varias bandas multiespectrales, de esa manera podría tener un análisis general para luego ver la zona de forma mas específica con una resolución mayor."
   ]
  },
  {
   "cell_type": "code",
   "execution_count": 6,
   "id": "c367f425-3f97-409c-9dc3-c5415ba598c0",
   "metadata": {},
   "outputs": [
    {
     "name": "stdout",
     "output_type": "stream",
     "text": [
      "Hi mechanicus creators\n"
     ]
    }
   ],
   "source": [
    "print(\"Hi mechanicus creators\")"
   ]
  },
  {
   "cell_type": "markdown",
   "id": "bdc71b0d",
   "metadata": {},
   "source": [
    "##### 2.Preprocesamiento de datos: Antes de entrenar el modelo, deberás realizar un preprocesamiento de los datos. Esto puede incluir la normalización de las imágenes, el cambio de tamaño a un formato estándar y la división del conjunto de datos en conjuntos de entrenamiento, validación y prueba."
   ]
  },
  {
   "cell_type": "markdown",
   "id": "897817e5",
   "metadata": {},
   "source": [
    "##### 3.Extracción de características: Puedes utilizar técnicas de extracción de características para extraer información relevante de las imágenes, como la textura, el color y la forma. Esto puede ayudar al modelo a aprender patrones distintivos de los hidrocarburos."
   ]
  },
  {
   "cell_type": "markdown",
   "id": "2150560c",
   "metadata": {},
   "source": [
    "##### 4.Diseño y entrenamiento del modelo: Utiliza bibliotecas como TensorFlow o Keras para diseñar y entrenar tu modelo de IA. Puedes utilizar algoritmos de aprendizaje profundo, como redes neuronales convolucionales (CNN), que son eficaces en el procesamiento de imágenes.."
   ]
  },
  {
   "cell_type": "markdown",
   "id": "e332ae5d",
   "metadata": {},
   "source": [
    "##### 5.Validación y ajuste del modelo: Evalúa el rendimiento de tu modelo utilizando el conjunto de validación. Realiza ajustes en la arquitectura del modelo, hiperparámetros o técnicas de regularización para mejorar su precisión"
   ]
  },
  {
   "cell_type": "markdown",
   "id": "2594a125",
   "metadata": {},
   "source": [
    "##### 6.Evaluación del modelo: Utiliza el conjunto de prueba para evaluar el rendimiento final del modelo. Calcula métricas como precisión, exhaustividad y puntuación F1 para determinar qué tan bien clasifica los hidrocarburos en las imágenes."
   ]
  },
  {
   "cell_type": "markdown",
   "id": "be881b37",
   "metadata": {},
   "source": [
    "##### bibliografia\n",
    "- \"Automatic Detection of Oil Spill in Satellite Images Using Deep Learning\" por R. Marcano, N. Weber, S. Weichert, A. Sonnenburg y C. Clemmensen.\n",
    "- \"Oil Spill Detection from Synthetic Aperture Radar (SAR) Images Using Deep Learning Techniques\" por S. P. Roy, R. Palaniappan, N. K. Sahoo y S. K. Krishnan.\n",
    "- \"Deep Learning Approaches for Oil Spill Detection in Satellite Images\" por T. Bhowmik, S. Ghosh y S. Roy.\n",
    "- \"Deep Neural Networks for Ship Detection and Characterization in Optical Satellite Images\" por G. Moser, P. Körner y A. Tille.\n",
    "- \"A Deep Learning Approach to Oil Spill Detection in Satellite Images\" por A. Bovcon, M. Možina, N. Podobnikar y V. Žalik."
   ]
  }
 ],
 "metadata": {
  "kernelspec": {
   "display_name": "Python 3 (ipykernel)",
   "language": "python",
   "name": "python3"
  },
  "language_info": {
   "codemirror_mode": {
    "name": "ipython",
    "version": 3
   },
   "file_extension": ".py",
   "mimetype": "text/x-python",
   "name": "python",
   "nbconvert_exporter": "python",
   "pygments_lexer": "ipython3",
   "version": "3.8.10"
  }
 },
 "nbformat": 4,
 "nbformat_minor": 5
}
