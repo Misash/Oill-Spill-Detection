{
 "cells": [
  {
   "cell_type": "code",
   "execution_count": 3,
   "id": "c367f425-3f97-409c-9dc3-c5415ba598c0",
   "metadata": {},
   "outputs": [
    {
     "name": "stdout",
     "output_type": "stream",
     "text": [
      "Hi mechanicus creators\n"
     ]
    }
   ],
   "source": [
    "print(\"Hi mechanicus creators\")"
   ]
  },
  {
   "cell_type": "code",
   "execution_count": null,
   "id": "a5545d98-cf9d-4a25-a537-feeb7e9dc0b3",
   "metadata": {},
   "outputs": [],
   "source": []
  }
 ],
 "metadata": {
  "kernelspec": {
   "display_name": "Python 3 (ipykernel)",
   "language": "python",
   "name": "python3"
  },
  "language_info": {
   "codemirror_mode": {
    "name": "ipython",
    "version": 3
   },
   "file_extension": ".py",
   "mimetype": "text/x-python",
   "name": "python",
   "nbconvert_exporter": "python",
   "pygments_lexer": "ipython3",
   "version": "3.11.4"
  }
 },
 "nbformat": 4,
 "nbformat_minor": 5
}
